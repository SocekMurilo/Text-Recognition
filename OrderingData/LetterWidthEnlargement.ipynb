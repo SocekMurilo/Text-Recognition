{
 "cells": [
  {
   "cell_type": "code",
   "execution_count": null,
   "metadata": {},
   "outputs": [],
   "source": [
    "!pip install glob\n",
    "!pip install opencv-python"
   ]
  },
  {
   "cell_type": "code",
   "execution_count": 24,
   "metadata": {},
   "outputs": [],
   "source": [
    "import cv2 as cv\n",
    "import os\n",
    "import numpy as np\n",
    "import matplotlib.pyplot as plt\n"
   ]
  },
  {
   "cell_type": "code",
   "execution_count": 25,
   "metadata": {},
   "outputs": [],
   "source": [
    "def load_images_from_folder(folder):\n",
    "    images = []\n",
    "    for filename in os.listdir(folder):\n",
    "        img = cv.imread(os.path.join(folder,filename))\n",
    "        if img is not None:\n",
    "            images.append(img)\n",
    "    return images\n",
    "\n",
    "def count_folders(directory):\n",
    "    # Initialize a counter for folders\n",
    "    folder_count = 0\n",
    "    \n",
    "    # Iterate over items in the directory\n",
    "    for item in os.listdir(directory):\n",
    "        # Check if the item is a directory\n",
    "        if os.path.isdir(os.path.join(directory, item)):\n",
    "            folder_count += 1\n",
    "    \n",
    "    return folder_count\n",
    "\n",
    "def show(img):\n",
    "    plt.imshow(img, cmap='gray')\n",
    "    plt.show()\n",
    "    return img"
   ]
  },
  {
   "cell_type": "code",
   "execution_count": 26,
   "metadata": {},
   "outputs": [],
   "source": [
    "folders = count_folders(\"organizedData\")"
   ]
  },
  {
   "cell_type": "code",
   "execution_count": 27,
   "metadata": {},
   "outputs": [
    {
     "name": "stdout",
     "output_type": "stream",
     "text": [
      "62\n"
     ]
    }
   ],
   "source": [
    "data = []\n",
    "\n",
    "for i in range(folders):\n",
    "    imgs = load_images_from_folder(f'organizedData/{i}/')\n",
    "    data.append(imgs)\n",
    "print(len(data))"
   ]
  },
  {
   "cell_type": "code",
   "execution_count": null,
   "metadata": {},
   "outputs": [],
   "source": [
    "dilated_images = []\n",
    "eroted_images = []\n",
    "\n",
    "\n",
    "for i in range(folders):\n",
    "    dil = []\n",
    "    ero = []\n",
    "    for img in data[i]:\n",
    "        img = cv.cvtColor(img, cv.COLOR_BGR2GRAY)\n",
    "\n",
    "        img1 = cv.dilate(img, np.ones((30, 30)))\n",
    "        img2 = cv.erode(img, np.ones((15, 15)))\n",
    "\n",
    "        dil.append(img1)\n",
    "        ero.append(img2)\n",
    "\n",
    "    dilated_images.append(dil)\n",
    "    eroted_images.append(ero)\n",
    "\n",
    "show(dilated_images[0][0])\n",
    "show(data[0][0])\n",
    "show(eroted_images[0][0])\n",
    "\n"
   ]
  },
  {
   "cell_type": "code",
   "execution_count": null,
   "metadata": {},
   "outputs": [],
   "source": [
    "classe = 61\n",
    "\n",
    "show(dilated_images[classe][0])\n",
    "show(data[classe][0])\n",
    "show(eroted_images[classe][0])"
   ]
  },
  {
   "cell_type": "code",
   "execution_count": 30,
   "metadata": {},
   "outputs": [],
   "source": [
    "for i in range(folders):\n",
    "    # Create a folder for the current index if it doesn't exist\n",
    "    folder_path = f\"organizedData/{i}\"\n",
    "    os.makedirs(folder_path, exist_ok=True)\n",
    "\n",
    "    # Loop through each binary image in limiarized[i]\n",
    "    for img_index, (img1, img2) in enumerate(zip(dilated_images[i], eroted_images[i])):\n",
    "        # Get the original image name\n",
    "        img_name = f\"{img_index}\"  # Update this according to your file naming convention\n",
    "\n",
    "        # Save the binary image with the original name in the corresponding folder\n",
    "        save_path_1 = os.path.join(folder_path, f\"{img_name}_1.png\")\n",
    "        save_path_2 = os.path.join(folder_path, f\"{img_name}_2.png\")\n",
    "        cv.imwrite(save_path_1, img1)\n",
    "        cv.imwrite(save_path_2, img2)"
   ]
  }
 ],
 "metadata": {
  "kernelspec": {
   "display_name": "Python 3",
   "language": "python",
   "name": "python3"
  },
  "language_info": {
   "codemirror_mode": {
    "name": "ipython",
    "version": 3
   },
   "file_extension": ".py",
   "mimetype": "text/x-python",
   "name": "python",
   "nbconvert_exporter": "python",
   "pygments_lexer": "ipython3",
   "version": "3.11.4"
  },
  "orig_nbformat": 4
 },
 "nbformat": 4,
 "nbformat_minor": 2
}
